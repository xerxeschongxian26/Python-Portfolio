{
 "cells": [
  {
   "cell_type": "markdown",
   "metadata": {},
   "source": [
    "# PDF Scrapper \n",
    " This notebook scraps monthly income statements to collect dividend information (Company Name and Dividend Value)\n",
    " Also displays total dividends collected"
   ]
  },
  {
   "cell_type": "code",
   "execution_count": 1,
   "metadata": {},
   "outputs": [],
   "source": [
    "import PyPDF2\n",
    "import re     #Regular Expressions or regex\n",
    "from tqdm import tqdm   #for loading bar\n",
    "import os"
   ]
  },
  {
   "cell_type": "code",
   "execution_count": 2,
   "metadata": {},
   "outputs": [],
   "source": [
    "# Define the function to grab values from some text\n",
    "def grab_values(text):\n",
    "    pattern = re.compile(r'(CDP-\\w{1,}-?\\s?\\w{1,})\\s{1,}(\\d{1,}.\\d{1,})')\n",
    "    match=re.search(pattern,text)\n",
    "    if match == None:\n",
    "        return None,None\n",
    "    else:\n",
    "        company=match.group(1)\n",
    "        dividend=match.group(2)\n",
    "        company=list(company)\n",
    "        del company[0:4]\n",
    "        company = ''.join(company)\n",
    "        return company,dividend"
   ]
  },
  {
   "cell_type": "code",
   "execution_count": 3,
   "metadata": {
    "scrolled": true
   },
   "outputs": [
    {
     "name": "stderr",
     "output_type": "stream",
     "text": [
      "Scrapping PDFs: 100%|██████████████████████████████████████████████████████████████████| 71/71 [00:03<00:00, 19.72it/s]"
     ]
    },
    {
     "name": "stdout",
     "output_type": "stream",
     "text": [
      "Scrapping Completed!\n",
      "Number of PDFs scrapped : 71\n",
      "List of companies : {'SHENG SI', 'ISOTEAM', 'COLEX', 'SILVERLAKE AXIS', 'COGENT', 'SARINE T', 'MICRO-ME', 'SILVERLA', 'SARINE TECH', 'OSIM INT', 'MICRO-MECHANICS', 'SPINDEX'}\n",
      "List Dividends Paid in SGD : ['66.301', '18.307', '79.30', '125.003', '30.5011', '9.752', '42.701', '18.303', '5,100', '16.001', '6.00925', '3.751', '13.203', '76.502', '100.007', '48.8008', '2.3412', '24.404', '15.3531', '24.404', '19.5211', '13.2016', '100.004', '18.303', '17.051', '42.70918', '595.002', '42.703', '30.502', '19.001', '7.634', '11.127', '18.304', '18.363', '3.884', '15.241', '156.50525', '3.0003', '32.0060']\n",
      "Total Dividends Paid in SGD : 1885.00688\n"
     ]
    },
    {
     "name": "stderr",
     "output_type": "stream",
     "text": [
      "\n"
     ]
    }
   ],
   "source": [
    "Coy=set()\n",
    "Div=[]\n",
    "file_count=0\n",
    "foldername= 'Original PDFs_DO NOT CHANGE NAME' +'/'\n",
    "for file in tqdm(os.listdir(foldername),desc='Scrapping PDFs'):\n",
    "    file_count+=1\n",
    "    filename = foldername+file\n",
    "    f = open(filename,'rb')              # Open the file\n",
    "    pdf_reader=PyPDF2.PdfFileReader(f)   # Instantiate the pdf_reader to the current open file\n",
    "    numPages = pdf_reader.numPages\n",
    "    for num in range(numPages):\n",
    "        page = pdf_reader.getPage(num)\n",
    "        text = page.extractText()\n",
    "        company,dividend = grab_values(text)\n",
    "        if company == None and dividend == None:\n",
    "            pass\n",
    "        else:\n",
    "            Coy.add(company)\n",
    "            Div.append(dividend)\n",
    "    f.close()\n",
    "print(f\"Scrapping Completed!\")    \n",
    "print(f\"Number of PDFs scrapped : {file_count}\")\n",
    "print(f\"List of companies : {Coy}\")\n",
    "print(f\"List Dividends Paid in SGD : {Div}\")\n",
    "Div.remove('5,100')\n",
    "print(f\"Total Dividends Paid in SGD : {sum([float(x) for x in Div])}\")"
   ]
  }
 ],
 "metadata": {
  "kernelspec": {
   "display_name": "Python 3",
   "language": "python",
   "name": "python3"
  },
  "language_info": {
   "codemirror_mode": {
    "name": "ipython",
    "version": 3
   },
   "file_extension": ".py",
   "mimetype": "text/x-python",
   "name": "python",
   "nbconvert_exporter": "python",
   "pygments_lexer": "ipython3",
   "version": "3.7.6"
  }
 },
 "nbformat": 4,
 "nbformat_minor": 4
}
